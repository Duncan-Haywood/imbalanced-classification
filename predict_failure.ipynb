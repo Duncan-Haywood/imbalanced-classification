{
 "cells": [
  {
   "cell_type": "code",
   "execution_count": null,
   "id": "cfa87d37",
   "metadata": {},
   "outputs": [],
   "source": [
    "import pandas as pd\n",
    "import seaborn as sns\n",
    "import pycaret.classification as pcclass\n",
    "from sklearn.preprocessing import LabelEncoder\n",
    "from IPython import display"
   ]
  },
  {
   "cell_type": "code",
   "execution_count": null,
   "id": "58ec3134",
   "metadata": {
    "tags": []
   },
   "outputs": [],
   "source": [
    "class imbalanced_classification:\n",
    "    def __init__(self):\n",
    "        self.df = pd.read_csv('./predict_failure.csv')\n",
    "    def data_exploration(self):\n",
    "        display(df)\n",
    "        encoded_df = self.encode_categorical_columns()\n",
    "        display(encoded_df)\n",
    "        self.display_distribution_plots(encoded_df)\n",
    "        display(\"number of failures:\", self.df.failure.sum())\n",
    "        display(sns.pairplot(encoded_df, x_vars=['failure']))\n",
    "    def display_distribution_plots(self, encoded_df):\n",
    "        for col in encoded_df.columns: \n",
    "            display(sns.displot(encoded_df, x=col))\n",
    "    def encode_categorical_columns(self):\n",
    "        encoded_df = self.df.copy()\n",
    "        # encode date\n",
    "        date_le = LabelEncoder()\n",
    "        date_le.fit(self.df.date.values)\n",
    "        date_encoded = list(date_le.transform(self.df.date.values))\n",
    "        encoded_df.date = date_encoded\n",
    "        # encode device\n",
    "        device_le = LabelEncoder()\n",
    "        device_le.fit(self.df.device.values)\n",
    "        device_encoded = list(device_le.transform(self.df.device.values))\n",
    "        encoded_df.device = device_encoded\n",
    "        return encoded_df\n",
    "    def train(self):\n",
    "        pcclass.setup(self.df, target='failure', silent=True, use_gpu=True, fix_imbalance=True, log_experiment=\"mlflow\", experiment_name=\"baseline\", log_plots=True, data_split_stratify=True, ) \n",
    "        best_model = pcclass.compare_models(sort=\"f1\", n_select=1)\n",
    "        boosted_model = pcclass.ensemble_model(best_model, method=\"Boosting\", optimize=\"f1\")\n",
    "        tuned_model = pcclass.tune_model(boosted_model, optimize=\"f1\")\n",
    "        self.final_model = pcclass.calibrate_model(tuned_model)\n",
    "        pcclass.save_model(self.final_model, model_name='imbalanced_classification_model.pkl')\n",
    "    def evaluate(self):\n",
    "        pcclass.evaluate_model(self.final_model)\n",
    "    def predict(self, df):\n",
    "        self.final_model = pcclass.load_model('imbalanced_classification_model.pkl')\n",
    "        predictions = pcclass.predict_model(self.final_model, df)\n",
    "        return predictions    \n",
    "    def retrain(self, updated_df):\n",
    "        self.final_model = pcclass.load_model('imbalanced_classification_model.pkl')\n",
    "        pcclass.setup(updated_df, target='failure', silent=True, use_gpu=True, fix_imbalance=True, log_experiment=\"mlflow\", experiment_name=\"retrain\", log_plots=True) \n",
    "        updated_model = pcclass.finalize_model(self.final_model)\n",
    "        pcclass.save_model(updated_model, 'imbalanced_classification_model.pkl')\n",
    "\n",
    "\n",
    "def main():\n",
    "    imb = imbalanced_classification()\n",
    "    imb.train()\n",
    "    imb.evaluate()"
   ]
  },
  {
   "cell_type": "code",
   "execution_count": null,
   "id": "89c50d85",
   "metadata": {
    "tags": []
   },
   "outputs": [],
   "source": [
    "main()"
   ]
  },
  {
   "cell_type": "code",
   "execution_count": null,
   "id": "79a64882-210e-4108-9cb4-01af169f4631",
   "metadata": {},
   "outputs": [],
   "source": []
  }
 ],
 "metadata": {
  "kernelspec": {
   "display_name": "pytorch",
   "language": "python",
   "name": "pytorch"
  },
  "language_info": {
   "codemirror_mode": {
    "name": "ipython",
    "version": 3
   },
   "file_extension": ".py",
   "mimetype": "text/x-python",
   "name": "python",
   "nbconvert_exporter": "python",
   "pygments_lexer": "ipython3",
   "version": "3.9.12"
  }
 },
 "nbformat": 4,
 "nbformat_minor": 5
}
